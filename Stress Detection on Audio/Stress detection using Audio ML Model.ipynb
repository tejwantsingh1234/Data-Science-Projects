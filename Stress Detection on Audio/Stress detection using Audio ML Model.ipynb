{
 "cells": [
  {
   "cell_type": "markdown",
   "id": "dba491a4-74de-4f48-83d6-550387cf85f1",
   "metadata": {},
   "source": [
    "Importing the necessary libraries"
   ]
  },
  {
   "cell_type": "code",
   "execution_count": 47,
   "id": "719cdef9-9675-4fd5-b2e2-5698ced789f9",
   "metadata": {},
   "outputs": [],
   "source": [
    "import numpy as np\n",
    "from matplotlib import pyplot as plt\n",
    "import csv\n",
    "import os\n",
    "import pandas as pd\n",
    "from sklearn.tree import DecisionTreeClassifier"
   ]
  },
  {
   "cell_type": "markdown",
   "id": "fc8e7113-c73c-4318-aa3c-f4c930ee2693",
   "metadata": {},
   "source": [
    "Function to calculate LBP (Local Binary Pattern)"
   ]
  },
  {
   "cell_type": "code",
   "execution_count": 20,
   "id": "8887e3c1-2ce5-45e3-81bd-1879c50e8280",
   "metadata": {},
   "outputs": [],
   "source": [
    "def compute_lbp(img_arr):\n",
    "    img_arr1 = img_arr[:, :, 0]\n",
    "    img_out = np.zeros((img_arr1.shape[0], img_arr.shape[1]))\n",
    "    for i in range(1, img_arr1.shape[0]-1):\n",
    "        for j in range(1, img_arr1.shape[1]-1):\n",
    "            cen = img_arr1[i, j]\n",
    "            n1 = img_arr1[i, j-1]>cen\n",
    "            n2 = img_arr1[i-1, j-1]>cen\n",
    "            n3 = img_arr1[i-1, j]>cen\n",
    "            n4 = img_arr1[i-1, j+1]>cen\n",
    "            n5 = img_arr1[i, j+1]>cen\n",
    "            n6 = img_arr1[i+1, j+1]>cen\n",
    "            n7 = img_arr1[i+1, j]>cen\n",
    "            n8 = img_arr1[i+1, j-1]>cen\n",
    "            val1 = n1*(2**0) + n2*(2**1)+n3*(2**2)+n4*(2**3)+ n5*(2**4) + n6*(2**5)+n7*(2**6)+n8*(2**7)\n",
    "            img_out[i, j] = val1\n",
    "    return img_out"
   ]
  },
  {
   "cell_type": "markdown",
   "id": "d0a71c1c-deb4-4653-9a96-fdc288e87348",
   "metadata": {},
   "source": [
    "Function to save features to a csv file to further train it on a classifier"
   ]
  },
  {
   "cell_type": "code",
   "execution_count": 11,
   "id": "7670ecf2-fa88-434e-b8d8-dec140855ac9",
   "metadata": {},
   "outputs": [],
   "source": [
    "def save_features_to_csv(features, csv_filename):\n",
    "    with open(csv_filename, mode='w', newline='') as file:\n",
    "        writer = csv.writer(file)\n",
    "        writer.writerow(['Image', 'Feature'])\n",
    "        for i, feature in enumerate(features):\n",
    "            writer.writerow([f'Image_{i+1}', feature])"
   ]
  },
  {
   "cell_type": "markdown",
   "id": "a0349e1e-deb8-4cda-9687-809ced9021ca",
   "metadata": {},
   "source": [
    "Main Function to process images in a folder"
   ]
  },
  {
   "cell_type": "code",
   "execution_count": 12,
   "id": "07f6106d-db26-4251-8e6f-8591cdc94ed6",
   "metadata": {},
   "outputs": [],
   "source": [
    "def process_images_in_folder(input_folder, output_folder, csv_filename):\n",
    "    if not os.path.exists(output_folder):\n",
    "        os.makedirs(output_folder)\n",
    "\n",
    "    features = []\n",
    "    for i, filename in enumerate(os.listdir(input_folder)):\n",
    "        img_path = os.path.join(input_folder, filename)\n",
    "        img_arr = plt.imread(img_path)\n",
    "        lbp_img = compute_lbp(img_arr)\n",
    "        plt.imshow(lbp_img)\n",
    "        plt.savefig(os.path.join(output_folder, f'LBP_{i+1}.png'))\n",
    "        plt.close()\n",
    "        \n",
    "        unique, counts = np.unique(lbp_img, return_counts=True)\n",
    "        feature = counts\n",
    "        features.append(feature)\n",
    "\n",
    "    save_features_to_csv(features, csv_filename)"
   ]
  },
  {
   "cell_type": "code",
   "execution_count": 13,
   "id": "22814b28-2d5c-4d91-9733-d25e0e89191e",
   "metadata": {},
   "outputs": [],
   "source": [
    "input_folder = 'Sehaj/Data Analyst/Projects/Stress Detection using Audio/Controlled_feat'\n",
    "output_folder = 'Controlled_LBP'\n",
    "csv_filename = 'LBP_Features.csv'\n",
    "\n",
    "process_images_in_folder(input_folder, output_folder, csv_filename)"
   ]
  },
  {
   "cell_type": "code",
   "execution_count": 21,
   "id": "ea8fd2ad-545e-48e3-b728-c1011d5a4d4b",
   "metadata": {
    "scrolled": true
   },
   "outputs": [],
   "source": [
    "df_con = pd.read_csv('LBP_Features_Controlled.csv')\n",
    "df_pat = pd.read_csv('LBP_Features_Patient.csv')"
   ]
  },
  {
   "cell_type": "code",
   "execution_count": 22,
   "id": "c222b423-1904-4268-866f-7650d1f4c57f",
   "metadata": {},
   "outputs": [],
   "source": [
    "df1 = pd.concat([df_con,df_pat])"
   ]
  },
  {
   "cell_type": "code",
   "execution_count": 23,
   "id": "9b796245-ca40-47cd-8959-aa6165d447b8",
   "metadata": {},
   "outputs": [
    {
     "data": {
      "text/plain": [
       "(163, 143)"
      ]
     },
     "execution_count": 23,
     "metadata": {},
     "output_type": "execute_result"
    }
   ],
   "source": [
    "df1.shape"
   ]
  },
  {
   "cell_type": "code",
   "execution_count": 24,
   "id": "3bfa4fe2-7217-44ef-9cad-f4a8337d1a2a",
   "metadata": {},
   "outputs": [
    {
     "data": {
      "text/html": [
       "<div>\n",
       "<style scoped>\n",
       "    .dataframe tbody tr th:only-of-type {\n",
       "        vertical-align: middle;\n",
       "    }\n",
       "\n",
       "    .dataframe tbody tr th {\n",
       "        vertical-align: top;\n",
       "    }\n",
       "\n",
       "    .dataframe thead th {\n",
       "        text-align: right;\n",
       "    }\n",
       "</style>\n",
       "<table border=\"1\" class=\"dataframe\">\n",
       "  <thead>\n",
       "    <tr style=\"text-align: right;\">\n",
       "      <th></th>\n",
       "      <th>Patient_ID</th>\n",
       "      <th>Features</th>\n",
       "      <th>Unnamed: 2</th>\n",
       "      <th>Unnamed: 3</th>\n",
       "      <th>Unnamed: 4</th>\n",
       "      <th>Unnamed: 5</th>\n",
       "      <th>Unnamed: 6</th>\n",
       "      <th>Unnamed: 7</th>\n",
       "      <th>Unnamed: 8</th>\n",
       "      <th>Unnamed: 9</th>\n",
       "      <th>...</th>\n",
       "      <th>Unnamed: 133</th>\n",
       "      <th>Unnamed: 134</th>\n",
       "      <th>Unnamed: 135</th>\n",
       "      <th>Unnamed: 136</th>\n",
       "      <th>Unnamed: 137</th>\n",
       "      <th>Unnamed: 138</th>\n",
       "      <th>Unnamed: 139</th>\n",
       "      <th>Unnamed: 140</th>\n",
       "      <th>Unnamed: 141</th>\n",
       "      <th>Unnamed: 142</th>\n",
       "    </tr>\n",
       "  </thead>\n",
       "  <tbody>\n",
       "    <tr>\n",
       "      <th>0</th>\n",
       "      <td>308</td>\n",
       "      <td>362897</td>\n",
       "      <td>1</td>\n",
       "      <td>298</td>\n",
       "      <td>154</td>\n",
       "      <td>199</td>\n",
       "      <td>86</td>\n",
       "      <td>6</td>\n",
       "      <td>10</td>\n",
       "      <td>199</td>\n",
       "      <td>...</td>\n",
       "      <td>0</td>\n",
       "      <td>0</td>\n",
       "      <td>0</td>\n",
       "      <td>0</td>\n",
       "      <td>0</td>\n",
       "      <td>0</td>\n",
       "      <td>0</td>\n",
       "      <td>0</td>\n",
       "      <td>0</td>\n",
       "      <td>0</td>\n",
       "    </tr>\n",
       "    <tr>\n",
       "      <th>1</th>\n",
       "      <td>309</td>\n",
       "      <td>286770</td>\n",
       "      <td>1</td>\n",
       "      <td>462</td>\n",
       "      <td>751</td>\n",
       "      <td>674</td>\n",
       "      <td>345</td>\n",
       "      <td>122</td>\n",
       "      <td>432</td>\n",
       "      <td>108</td>\n",
       "      <td>...</td>\n",
       "      <td>146</td>\n",
       "      <td>6</td>\n",
       "      <td>21</td>\n",
       "      <td>447</td>\n",
       "      <td>2</td>\n",
       "      <td>9</td>\n",
       "      <td>100</td>\n",
       "      <td>279</td>\n",
       "      <td>0</td>\n",
       "      <td>0</td>\n",
       "    </tr>\n",
       "    <tr>\n",
       "      <th>2</th>\n",
       "      <td>311</td>\n",
       "      <td>272987</td>\n",
       "      <td>1</td>\n",
       "      <td>511</td>\n",
       "      <td>867</td>\n",
       "      <td>889</td>\n",
       "      <td>379</td>\n",
       "      <td>101</td>\n",
       "      <td>545</td>\n",
       "      <td>134</td>\n",
       "      <td>...</td>\n",
       "      <td>138</td>\n",
       "      <td>6</td>\n",
       "      <td>21</td>\n",
       "      <td>697</td>\n",
       "      <td>2</td>\n",
       "      <td>9</td>\n",
       "      <td>95</td>\n",
       "      <td>265</td>\n",
       "      <td>0</td>\n",
       "      <td>0</td>\n",
       "    </tr>\n",
       "    <tr>\n",
       "      <th>3</th>\n",
       "      <td>319</td>\n",
       "      <td>296275</td>\n",
       "      <td>1</td>\n",
       "      <td>434</td>\n",
       "      <td>664</td>\n",
       "      <td>684</td>\n",
       "      <td>252</td>\n",
       "      <td>105</td>\n",
       "      <td>423</td>\n",
       "      <td>58</td>\n",
       "      <td>...</td>\n",
       "      <td>9</td>\n",
       "      <td>82</td>\n",
       "      <td>237</td>\n",
       "      <td>0</td>\n",
       "      <td>0</td>\n",
       "      <td>0</td>\n",
       "      <td>0</td>\n",
       "      <td>0</td>\n",
       "      <td>0</td>\n",
       "      <td>0</td>\n",
       "    </tr>\n",
       "    <tr>\n",
       "      <th>4</th>\n",
       "      <td>330</td>\n",
       "      <td>280037</td>\n",
       "      <td>1</td>\n",
       "      <td>528</td>\n",
       "      <td>935</td>\n",
       "      <td>749</td>\n",
       "      <td>405</td>\n",
       "      <td>95</td>\n",
       "      <td>498</td>\n",
       "      <td>147</td>\n",
       "      <td>...</td>\n",
       "      <td>6</td>\n",
       "      <td>17</td>\n",
       "      <td>703</td>\n",
       "      <td>2</td>\n",
       "      <td>9</td>\n",
       "      <td>71</td>\n",
       "      <td>223</td>\n",
       "      <td>0</td>\n",
       "      <td>0</td>\n",
       "      <td>0</td>\n",
       "    </tr>\n",
       "  </tbody>\n",
       "</table>\n",
       "<p>5 rows × 143 columns</p>\n",
       "</div>"
      ],
      "text/plain": [
       "   Patient_ID  Features  Unnamed: 2  Unnamed: 3  Unnamed: 4  Unnamed: 5  \\\n",
       "0         308    362897           1         298         154         199   \n",
       "1         309    286770           1         462         751         674   \n",
       "2         311    272987           1         511         867         889   \n",
       "3         319    296275           1         434         664         684   \n",
       "4         330    280037           1         528         935         749   \n",
       "\n",
       "   Unnamed: 6  Unnamed: 7  Unnamed: 8  Unnamed: 9  ...  Unnamed: 133  \\\n",
       "0          86           6          10         199  ...             0   \n",
       "1         345         122         432         108  ...           146   \n",
       "2         379         101         545         134  ...           138   \n",
       "3         252         105         423          58  ...             9   \n",
       "4         405          95         498         147  ...             6   \n",
       "\n",
       "   Unnamed: 134  Unnamed: 135  Unnamed: 136  Unnamed: 137  Unnamed: 138  \\\n",
       "0             0             0             0             0             0   \n",
       "1             6            21           447             2             9   \n",
       "2             6            21           697             2             9   \n",
       "3            82           237             0             0             0   \n",
       "4            17           703             2             9            71   \n",
       "\n",
       "   Unnamed: 139  Unnamed: 140  Unnamed: 141  Unnamed: 142  \n",
       "0             0             0             0             0  \n",
       "1           100           279             0             0  \n",
       "2            95           265             0             0  \n",
       "3             0             0             0             0  \n",
       "4           223             0             0             0  \n",
       "\n",
       "[5 rows x 143 columns]"
      ]
     },
     "execution_count": 24,
     "metadata": {},
     "output_type": "execute_result"
    }
   ],
   "source": [
    "df1.head()"
   ]
  },
  {
   "cell_type": "code",
   "execution_count": 25,
   "id": "af4bf739-ccf3-4ad1-a25c-66d1264f4730",
   "metadata": {},
   "outputs": [],
   "source": [
    "X = np.array(df1)"
   ]
  },
  {
   "cell_type": "code",
   "execution_count": 26,
   "id": "59ec5680-a13f-401b-9bcc-23ab3a18330e",
   "metadata": {},
   "outputs": [],
   "source": [
    "y = np.concatenate([np.zeros(126),np.ones(37)])"
   ]
  },
  {
   "cell_type": "code",
   "execution_count": 29,
   "id": "9bb35996-e4b1-4463-b81c-0e82262732a0",
   "metadata": {},
   "outputs": [
    {
     "data": {
      "text/plain": [
       "(163, 143)"
      ]
     },
     "execution_count": 29,
     "metadata": {},
     "output_type": "execute_result"
    }
   ],
   "source": [
    "X.shape"
   ]
  },
  {
   "cell_type": "code",
   "execution_count": 30,
   "id": "1f715260-f1eb-4778-ae1d-cafffdbed5e8",
   "metadata": {},
   "outputs": [
    {
     "data": {
      "text/plain": [
       "(163,)"
      ]
     },
     "execution_count": 30,
     "metadata": {},
     "output_type": "execute_result"
    }
   ],
   "source": [
    "y.shape"
   ]
  },
  {
   "cell_type": "code",
   "execution_count": 31,
   "id": "68c3dfeb-eb9d-491d-86d6-1d8a1e994aeb",
   "metadata": {},
   "outputs": [],
   "source": [
    "from sklearn.model_selection import train_test_split\n",
    "X_train,X_test,y_train,y_test = train_test_split(X,y,test_size = 0.3, random_state = 42)"
   ]
  },
  {
   "cell_type": "code",
   "execution_count": 11,
   "id": "0e121415-1684-4106-8b4b-126fafce129e",
   "metadata": {},
   "outputs": [
    {
     "data": {
      "text/plain": [
       "array([[   361, 261022,      1, ...,      0,      0,      0],\n",
       "       [   416, 286893,      1, ...,    278,      0,      0],\n",
       "       [   348, 270353,      1, ...,    279,      0,      0],\n",
       "       ...,\n",
       "       [   354, 273585,      1, ...,      8,     87,    293],\n",
       "       [   406, 297063,      1, ...,      0,      0,      0],\n",
       "       [   422, 268448,      1, ...,      0,      0,      0]], dtype=int64)"
      ]
     },
     "execution_count": 11,
     "metadata": {},
     "output_type": "execute_result"
    }
   ],
   "source": [
    "X_train"
   ]
  },
  {
   "cell_type": "code",
   "execution_count": 12,
   "id": "31cd6177-3341-4ac8-948a-430f8042f818",
   "metadata": {},
   "outputs": [],
   "source": [
    "from sklearn.svm import SVC\n",
    "svc_classifier = SVC(kernel = 'linear')\n",
    "svc_classifier.fit(X_train,y_train)\n",
    "y_pred = svc_classifier.predict(X_test)"
   ]
  },
  {
   "cell_type": "code",
   "execution_count": 15,
   "id": "dd6cff1a-32b7-4906-8c5f-522a7d50f7d8",
   "metadata": {},
   "outputs": [
    {
     "name": "stdout",
     "output_type": "stream",
     "text": [
      "F1 Score: 0.7072649572649572\n"
     ]
    }
   ],
   "source": [
    "from sklearn.metrics import f1_score\n",
    "f1 = f1_score(y_test,y_pred, average = 'weighted')\n",
    "print(\"F1 Score:\", f1)"
   ]
  },
  {
   "cell_type": "code",
   "execution_count": 16,
   "id": "9f2cfbad-fd37-4218-8633-c0cb3b804014",
   "metadata": {},
   "outputs": [],
   "source": [
    "cost_values = np.linspace(0.1,100,num = 100)\n",
    "f1_scores = []\n",
    "for c in cost_values:\n",
    "    svm_classifier = SVC(kernel = 'linear', C = c)\n",
    "    svm_classifier.fit(X_train,y_train)\n",
    "    y_pred = svc_classifier.predict(X_test)\n",
    "    f1 = f1_score(y_test,y_pred, average = 'weighted')\n",
    "    f1_scores.append(f1)"
   ]
  },
  {
   "cell_type": "code",
   "execution_count": 17,
   "id": "a6e52f98-96b3-4285-ab40-b2198235b9c7",
   "metadata": {},
   "outputs": [
    {
     "data": {
      "text/plain": [
       "[0.7072649572649572,\n",
       " 0.7072649572649572,\n",
       " 0.7072649572649572,\n",
       " 0.7072649572649572,\n",
       " 0.7072649572649572,\n",
       " 0.7072649572649572,\n",
       " 0.7072649572649572,\n",
       " 0.7072649572649572,\n",
       " 0.7072649572649572,\n",
       " 0.7072649572649572,\n",
       " 0.7072649572649572,\n",
       " 0.7072649572649572,\n",
       " 0.7072649572649572,\n",
       " 0.7072649572649572,\n",
       " 0.7072649572649572,\n",
       " 0.7072649572649572,\n",
       " 0.7072649572649572,\n",
       " 0.7072649572649572,\n",
       " 0.7072649572649572,\n",
       " 0.7072649572649572,\n",
       " 0.7072649572649572,\n",
       " 0.7072649572649572,\n",
       " 0.7072649572649572,\n",
       " 0.7072649572649572,\n",
       " 0.7072649572649572,\n",
       " 0.7072649572649572,\n",
       " 0.7072649572649572,\n",
       " 0.7072649572649572,\n",
       " 0.7072649572649572,\n",
       " 0.7072649572649572,\n",
       " 0.7072649572649572,\n",
       " 0.7072649572649572,\n",
       " 0.7072649572649572,\n",
       " 0.7072649572649572,\n",
       " 0.7072649572649572,\n",
       " 0.7072649572649572,\n",
       " 0.7072649572649572,\n",
       " 0.7072649572649572,\n",
       " 0.7072649572649572,\n",
       " 0.7072649572649572,\n",
       " 0.7072649572649572,\n",
       " 0.7072649572649572,\n",
       " 0.7072649572649572,\n",
       " 0.7072649572649572,\n",
       " 0.7072649572649572,\n",
       " 0.7072649572649572,\n",
       " 0.7072649572649572,\n",
       " 0.7072649572649572,\n",
       " 0.7072649572649572,\n",
       " 0.7072649572649572,\n",
       " 0.7072649572649572,\n",
       " 0.7072649572649572,\n",
       " 0.7072649572649572,\n",
       " 0.7072649572649572,\n",
       " 0.7072649572649572,\n",
       " 0.7072649572649572,\n",
       " 0.7072649572649572,\n",
       " 0.7072649572649572,\n",
       " 0.7072649572649572,\n",
       " 0.7072649572649572,\n",
       " 0.7072649572649572,\n",
       " 0.7072649572649572,\n",
       " 0.7072649572649572,\n",
       " 0.7072649572649572,\n",
       " 0.7072649572649572,\n",
       " 0.7072649572649572,\n",
       " 0.7072649572649572,\n",
       " 0.7072649572649572,\n",
       " 0.7072649572649572,\n",
       " 0.7072649572649572,\n",
       " 0.7072649572649572,\n",
       " 0.7072649572649572,\n",
       " 0.7072649572649572,\n",
       " 0.7072649572649572,\n",
       " 0.7072649572649572,\n",
       " 0.7072649572649572,\n",
       " 0.7072649572649572,\n",
       " 0.7072649572649572,\n",
       " 0.7072649572649572,\n",
       " 0.7072649572649572,\n",
       " 0.7072649572649572,\n",
       " 0.7072649572649572,\n",
       " 0.7072649572649572,\n",
       " 0.7072649572649572,\n",
       " 0.7072649572649572,\n",
       " 0.7072649572649572,\n",
       " 0.7072649572649572,\n",
       " 0.7072649572649572,\n",
       " 0.7072649572649572,\n",
       " 0.7072649572649572,\n",
       " 0.7072649572649572,\n",
       " 0.7072649572649572,\n",
       " 0.7072649572649572,\n",
       " 0.7072649572649572,\n",
       " 0.7072649572649572,\n",
       " 0.7072649572649572,\n",
       " 0.7072649572649572,\n",
       " 0.7072649572649572,\n",
       " 0.7072649572649572,\n",
       " 0.7072649572649572]"
      ]
     },
     "execution_count": 17,
     "metadata": {},
     "output_type": "execute_result"
    }
   ],
   "source": [
    "f1_scores"
   ]
  },
  {
   "cell_type": "code",
   "execution_count": 40,
   "id": "92096280-88a6-439e-83ba-5d0f244db989",
   "metadata": {},
   "outputs": [],
   "source": [
    "from sklearn.neural_network import MLPClassifier\n",
    "lrs = np.linspace(0.00001, 0.5, 100)\n",
    "acc= []\n",
    "for lr in lrs:\n",
    "    clf = MLPClassifier(hidden_layer_sizes = ((81,)), learning_rate_init=lr)\n",
    "    clf.fit(X_train,y_train)\n",
    "    y_pred = clf.predict(X_test)\n",
    "    acc1 = np.sum(y_pred == y_test)/y_test.shape[0]\n",
    "    acc.append(acc1)"
   ]
  },
  {
   "cell_type": "code",
   "execution_count": 41,
   "id": "61d60b15-a11c-4d27-a781-202a6f74353d",
   "metadata": {},
   "outputs": [
    {
     "data": {
      "text/plain": [
       "[<matplotlib.lines.Line2D at 0x2858b5e5f90>]"
      ]
     },
     "execution_count": 41,
     "metadata": {},
     "output_type": "execute_result"
    },
    {
     "data": {
      "image/png": "[encoded data removed]",
      "text/plain": [
       "<Figure size 640x480 with 1 Axes>"
      ]
     },
     "metadata": {},
     "output_type": "display_data"
    }
   ],
   "source": [
    "from matplotlib import pyplot as plt\n",
    "plt.plot(acc)"
   ]
  },
  {
   "cell_type": "code",
   "execution_count": 42,
   "id": "d1db5351-ccd0-4530-80d2-f4b0210a9f53",
   "metadata": {},
   "outputs": [
    {
     "name": "stdout",
     "output_type": "stream",
     "text": [
      "0.7142857142857143\n"
     ]
    }
   ],
   "source": [
    "print(np.max(acc1))"
   ]
  },
  {
   "cell_type": "code",
   "execution_count": 43,
   "id": "9ac93eb3-316b-4871-82b3-f39b232f3df2",
   "metadata": {},
   "outputs": [],
   "source": [
    "from sklearn.neural_network import MLPClassifier\n",
    "lrs = np.linspace(0.00001, 0.5, 100)\n",
    "acc= []\n",
    "for lr in lrs:\n",
    "    clf = MLPClassifier(hidden_layer_sizes = ((40,20,)), learning_rate_init=lr)\n",
    "    clf.fit(X_train,y_train)\n",
    "    y_pred = clf.predict(X_test)\n",
    "    acc1 = np.sum(y_pred == y_test)/y_test.shape[0]\n",
    "    acc.append(acc1)"
   ]
  },
  {
   "cell_type": "code",
   "execution_count": 44,
   "id": "6e3897fc-d444-4b92-b1e2-d2c197b1251c",
   "metadata": {},
   "outputs": [
    {
     "data": {
      "text/plain": [
       "[<matplotlib.lines.Line2D at 0x2858b4b4150>]"
      ]
     },
     "execution_count": 44,
     "metadata": {},
     "output_type": "execute_result"
    },
    {
     "data": {
      "image/png": "[encoded data removed]",
      "text/plain": [
       "<Figure size 640x480 with 1 Axes>"
      ]
     },
     "metadata": {},
     "output_type": "display_data"
    }
   ],
   "source": [
    "from matplotlib import pyplot as plt\n",
    "plt.plot(acc)"
   ]
  },
  {
   "cell_type": "code",
   "execution_count": 45,
   "id": "f0c67e80-d39f-41d8-881f-a0bb24eeaa3b",
   "metadata": {},
   "outputs": [
    {
     "name": "stdout",
     "output_type": "stream",
     "text": [
      "0.7142857142857143\n"
     ]
    }
   ],
   "source": [
    "print(np.max(acc1))"
   ]
  },
  {
   "cell_type": "code",
   "execution_count": 49,
   "id": "e57c0175-9e57-4612-b55a-b0af018ef4e8",
   "metadata": {},
   "outputs": [],
   "source": [
    "clf = DecisionTreeClassifier(random_state=0)\n",
    "from sklearn.neural_network import MLPClassifier\n",
    "lrs = np.linspace(0.00001, 0.5, 100)\n",
    "acc= []\n",
    "clf = DecisionTreeClassifier(random_state=0)\n",
    "clf.fit(X_train,y_train)\n",
    "y_pred = clf.predict(X_test)\n",
    "acc1 = np.sum(y_pred == y_test)/y_test.shape[0]\n",
    "acc.append(acc1)"
   ]
  },
  {
   "cell_type": "code",
   "execution_count": 52,
   "id": "e40f83a0-4d06-4016-85f1-367cf211e2b7",
   "metadata": {},
   "outputs": [
    {
     "name": "stdout",
     "output_type": "stream",
     "text": [
      "0.9387755102040817\n"
     ]
    }
   ],
   "source": [
    "from matplotlib import pyplot as plt\n",
    "print(acc1)"
   ]
  },
  {
   "cell_type": "code",
   "execution_count": null,
   "id": "d93ee863-1918-4f6c-bbde-3813a0fa253a",
   "metadata": {},
   "outputs": [],
   "source": []
  }
 ],
 "metadata": {
  "kernelspec": {
   "display_name": "Python 3 (ipykernel)",
   "language": "python",
   "name": "python3"
  },
  "language_info": {
   "codemirror_mode": {
    "name": "ipython",
    "version": 3
   },
   "file_extension": ".py",
   "mimetype": "text/x-python",
   "name": "python",
   "nbconvert_exporter": "python",
   "pygments_lexer": "ipython3",
   "version": "3.11.7"
  }
 },
 "nbformat": 4,
 "nbformat_minor": 5
}
